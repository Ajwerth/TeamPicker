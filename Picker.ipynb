{
 "cells": [
  {
   "cell_type": "code",
   "execution_count": 2,
   "metadata": {},
   "outputs": [],
   "source": [
    "from pydfs_lineup_optimizer import get_optimizer, Site, Sport"
   ]
  },
  {
   "cell_type": "code",
   "execution_count": 27,
   "metadata": {},
   "outputs": [
    {
     "name": "stdout",
     "output_type": "stream",
     "text": [
      " 1. CPT   DeeJay Dallas                 CPT   SEA            ARI@SEA  11.97          900.0$    \n",
      " 2. FLEX  Chris Carson                  FLEX  SEA            ARI@SEA  17.5           8400.0$   \n",
      " 3. FLEX  Chase Edmonds                 FLEX  ARI            ARI@SEA  11.81          5600.0$   \n",
      " 4. FLEX  Kyler Murray                  FLEX  ARI            ARI@SEA  31.38          13000.0$  \n",
      " 5. FLEX  Russell Wilson                FLEX  SEA            ARI@SEA  29.56          11800.0$  \n",
      " 6. FLEX  DK Metcalf                    FLEX  SEA            ARI@SEA  20.62          10200.0$  \n",
      "\n",
      "Fantasy Points 122.84\n",
      "Salary 49900.00\n",
      "\n",
      "[DeeJay Dallas CPT (SEA), Chris Carson FLEX (SEA), Chase Edmonds FLEX (ARI), Kyler Murray FLEX (ARI), Russell Wilson FLEX (SEA), DK Metcalf FLEX (SEA)]\n",
      "122.84\n",
      "49900.0\n",
      " 1. CPT   DeeJay Dallas                 CPT   SEA            ARI@SEA  11.97          900.0$    \n",
      " 2. FLEX  Chris Carson                  FLEX  SEA            ARI@SEA  17.5           8400.0$   \n",
      " 3. FLEX  Kenyan Drake                  FLEX  ARI            ARI@SEA  12.75          6200.0$   \n",
      " 4. FLEX  Kyler Murray                  FLEX  ARI            ARI@SEA  31.38          13000.0$  \n",
      " 5. FLEX  Russell Wilson                FLEX  SEA            ARI@SEA  29.56          11800.0$  \n",
      " 6. FLEX  Tyler Lockett                 FLEX  SEA            ARI@SEA  19.34          9400.0$   \n",
      "\n",
      "Fantasy Points 122.50\n",
      "Salary 49700.00\n",
      "\n",
      "[DeeJay Dallas CPT (SEA), Chris Carson FLEX (SEA), Kenyan Drake FLEX (ARI), Kyler Murray FLEX (ARI), Russell Wilson FLEX (SEA), Tyler Lockett FLEX (SEA)]\n",
      "122.5\n",
      "49700.0\n",
      " 1. CPT   DeeJay Dallas                 CPT   SEA            ARI@SEA  11.97          900.0$    \n",
      " 2. FLEX  Kyler Murray                  FLEX  ARI            ARI@SEA  31.38          13000.0$  \n",
      " 3. FLEX  Zane Gonzalez                 FLEX  ARI            ARI@SEA  9.44           4200.0$   \n",
      " 4. FLEX  Russell Wilson                FLEX  SEA            ARI@SEA  29.56          11800.0$  \n",
      " 5. FLEX  DK Metcalf                    FLEX  SEA            ARI@SEA  20.62          10200.0$  \n",
      " 6. FLEX  Tyler Lockett                 FLEX  SEA            ARI@SEA  19.34          9400.0$   \n",
      "\n",
      "Fantasy Points 122.31\n",
      "Salary 49500.00\n",
      "\n",
      "[DeeJay Dallas CPT (SEA), Kyler Murray FLEX (ARI), Zane Gonzalez FLEX (ARI), Russell Wilson FLEX (SEA), DK Metcalf FLEX (SEA), Tyler Lockett FLEX (SEA)]\n",
      "122.31\n",
      "49500.0\n",
      " 1. CPT   DeeJay Dallas                 CPT   SEA            ARI@SEA  11.97          900.0$    \n",
      " 2. FLEX  Kyler Murray                  FLEX  ARI            ARI@SEA  31.38          13000.0$  \n",
      " 3. FLEX  Jason Myers                   FLEX  SEA            ARI@SEA  8.22           4000.0$   \n",
      " 4. FLEX  Russell Wilson                FLEX  SEA            ARI@SEA  29.56          11800.0$  \n",
      " 5. FLEX  DeAndre Hopkins               FLEX  ARI            ARI@SEA  21.23          10800.0$  \n",
      " 6. FLEX  Tyler Lockett                 FLEX  SEA            ARI@SEA  19.34          9400.0$   \n",
      "\n",
      "Fantasy Points 121.70\n",
      "Salary 49900.00\n",
      "\n",
      "[DeeJay Dallas CPT (SEA), Kyler Murray FLEX (ARI), Jason Myers FLEX (SEA), Russell Wilson FLEX (SEA), DeAndre Hopkins FLEX (ARI), Tyler Lockett FLEX (SEA)]\n",
      "121.7\n",
      "49900.0\n",
      " 1. CPT   DeeJay Dallas                 CPT   SEA            ARI@SEA  11.97          900.0$    \n",
      " 2. FLEX  Chris Carson                  FLEX  SEA            ARI@SEA  17.5           8400.0$   \n",
      " 3. FLEX  Chase Edmonds                 FLEX  ARI            ARI@SEA  11.81          5600.0$   \n",
      " 4. FLEX  Kyler Murray                  FLEX  ARI            ARI@SEA  31.38          13000.0$  \n",
      " 5. FLEX  Russell Wilson                FLEX  SEA            ARI@SEA  29.56          11800.0$  \n",
      " 6. FLEX  Tyler Lockett                 FLEX  SEA            ARI@SEA  19.34          9400.0$   \n",
      "\n",
      "Fantasy Points 121.56\n",
      "Salary 49100.00\n",
      "\n",
      "[DeeJay Dallas CPT (SEA), Chris Carson FLEX (SEA), Chase Edmonds FLEX (ARI), Kyler Murray FLEX (ARI), Russell Wilson FLEX (SEA), Tyler Lockett FLEX (SEA)]\n",
      "121.56\n",
      "49100.0\n"
     ]
    }
   ],
   "source": [
    "optimizer = get_optimizer(Site.DRAFTKINGS_CAPTAIN_MODE, Sport.FOOTBALL)\n",
    "optimizer.load_players_from_csv(\"/salaries/DKSalariesCptTnfWk11.csv\")\n",
    "\n",
    "# Exclude\n",
    "excluded = []\n",
    "\n",
    "print('These players will not be included in optimization')\n",
    "for excludedPlayer in excluded:\n",
    "    print(excludedPlayer)\n",
    "    player = optimizer.get_player_by_name(excludedPlayer)\n",
    "    optimizer.remove_player(player)\n",
    "print('')\n",
    "\n",
    "for lineup in optimizer.optimize(n=5):\n",
    "    print(lineup)\n",
    "    print(lineup.players)  # list of players\n",
    "    print(lineup.fantasy_points_projection)\n",
    "    print(lineup.salary_costs)"
   ]
  },
  {
   "cell_type": "code",
   "execution_count": 1,
   "metadata": {},
   "outputs": [
    {
     "output_type": "error",
     "ename": "NameError",
     "evalue": "name 'get_optimizer' is not defined",
     "traceback": [
      "\u001b[0;31m---------------------------------------------------------------------------\u001b[0m",
      "\u001b[0;31mNameError\u001b[0m                                 Traceback (most recent call last)",
      "\u001b[0;32m<ipython-input-1-5af9aabd6332>\u001b[0m in \u001b[0;36m<module>\u001b[0;34m\u001b[0m\n\u001b[0;32m----> 1\u001b[0;31m \u001b[0moptimizer\u001b[0m \u001b[0;34m=\u001b[0m \u001b[0mget_optimizer\u001b[0m\u001b[0;34m(\u001b[0m\u001b[0mSite\u001b[0m\u001b[0;34m.\u001b[0m\u001b[0mDRAFTKINGS\u001b[0m\u001b[0;34m,\u001b[0m \u001b[0mSport\u001b[0m\u001b[0;34m.\u001b[0m\u001b[0mFOOTBALL\u001b[0m\u001b[0;34m)\u001b[0m\u001b[0;34m\u001b[0m\u001b[0;34m\u001b[0m\u001b[0m\n\u001b[0m\u001b[1;32m      2\u001b[0m \u001b[0moptimizer\u001b[0m\u001b[0;34m.\u001b[0m\u001b[0mload_players_from_csv\u001b[0m\u001b[0;34m(\u001b[0m\u001b[0;34m\"/salaries/DKSalariesWk11.csv\"\u001b[0m\u001b[0;34m)\u001b[0m\u001b[0;34m\u001b[0m\u001b[0;34m\u001b[0m\u001b[0m\n\u001b[1;32m      3\u001b[0m \u001b[0;34m\u001b[0m\u001b[0m\n\u001b[1;32m      4\u001b[0m \u001b[0;31m# Injured\u001b[0m\u001b[0;34m\u001b[0m\u001b[0;34m\u001b[0m\u001b[0;34m\u001b[0m\u001b[0m\n\u001b[1;32m      5\u001b[0m injured = [\n",
      "\u001b[0;31mNameError\u001b[0m: name 'get_optimizer' is not defined"
     ]
    }
   ],
   "source": [
    "optimizer = get_optimizer(Site.DRAFTKINGS, Sport.FOOTBALL)\n",
    "optimizer.load_players_from_csv(\"/salaries/DKSalariesWk11.csv\")\n",
    "\n",
    "# Injured\n",
    "injured = [\n",
    "    'Dak Prescott', \n",
    "    'Christian McCaffrey', \n",
    "    'Odell Beckham', \n",
    "    'Allen Lazard', \n",
    "    'C.J. Uzomah', \n",
    "    'Ryan Fitzpatrick', \n",
    "    'Gardner Minshew',\n",
    "    'Courtland Sutton',\n",
    "    'DeSean Jackson',\n",
    "    'Sony Michel'\n",
    "]\n",
    "\n",
    "print('These players are injured and will not be included in optimization')\n",
    "for injuredPlayer in injured:\n",
    "    print(injuredPlayer)\n",
    "    player = optimizer.get_player_by_name(injuredPlayer)\n",
    "    optimizer.remove_player(player)\n",
    "print('')\n",
    "\n",
    "#Set Percentages\n",
    "James = optimizer.get_player_by_name('James Robinson')\n",
    "\n",
    "James.min_exposure = 0.3\n",
    "\n",
    "for lineup in optimizer.optimize(n=10):\n",
    "    print(lineup)\n",
    "    print(lineup.players)  # list of players\n",
    "    print(lineup.fantasy_points_projection)\n",
    "    print(lineup.salary_costs)"
   ]
  },
  {
   "cell_type": "code",
   "execution_count": null,
   "metadata": {},
   "outputs": [],
   "source": []
  }
 ],
 "metadata": {
  "kernelspec": {
   "display_name": "Python 3",
   "language": "python",
   "name": "python3"
  },
  "language_info": {
   "codemirror_mode": {
    "name": "ipython",
    "version": 3
   },
   "file_extension": ".py",
   "mimetype": "text/x-python",
   "name": "python",
   "nbconvert_exporter": "python",
   "pygments_lexer": "ipython3",
   "version": "3.7.4-final"
  }
 },
 "nbformat": 4,
 "nbformat_minor": 4
}